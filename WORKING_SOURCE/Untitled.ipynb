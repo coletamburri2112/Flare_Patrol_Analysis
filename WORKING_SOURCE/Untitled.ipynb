{
 "cells": [
  {
   "cell_type": "code",
   "execution_count": 2,
   "id": "cd5a42bc-2fbb-49fd-9f73-47fb17314269",
   "metadata": {},
   "outputs": [],
   "source": [
    "import astropy.units as u\n",
    "from sunpy.net import Fido, attrs as a\n",
    "import dkist.net\n",
    "import dkist\n",
    "import utilvbi\n",
    "import destretch_fw as destr\n",
    "\n",
    "from astropy.io import fits\n",
    "import numpy as np\n",
    "from IPython.display import Video\n",
    "from astropy.io import fits\n",
    "import matplotlib.pyplot as plt\n",
    "import os\n",
    "\n",
    "import astropy.io.fits as pf\n",
    "import utilvbi\n",
    "import skimage\n",
    "from skimage.exposure import match_histograms"
   ]
  },
  {
   "cell_type": "code",
   "execution_count": 4,
   "id": "bfce14d4-97f5-424c-af3a-27ee28b10f7c",
   "metadata": {},
   "outputs": [],
   "source": [
    "dC = fits.open('/Volumes/VBI_External/postdestretch_dataCubeX_class_decay_full.fits')[0].data"
   ]
  },
  {
   "cell_type": "code",
   "execution_count": 8,
   "id": "17592106-79db-4df8-99af-76fa28a65e1c",
   "metadata": {},
   "outputs": [
    {
     "data": {
      "text/plain": [
       "(1184, 4095, 4095)"
      ]
     },
     "execution_count": 8,
     "metadata": {},
     "output_type": "execute_result"
    }
   ],
   "source": [
    "np.shape(dC)"
   ]
  },
  {
   "cell_type": "code",
   "execution_count": null,
   "id": "f59b8dcf-960a-4147-a4ef-f0b0bb50a6e1",
   "metadata": {},
   "outputs": [],
   "source": [
    "np.max(dC)"
   ]
  },
  {
   "cell_type": "code",
   "execution_count": null,
   "id": "3e1be96b-5e3c-4661-a191-9f6046bb8ba2",
   "metadata": {},
   "outputs": [],
   "source": []
  }
 ],
 "metadata": {
  "kernelspec": {
   "display_name": "Python 3 (ipykernel)",
   "language": "python",
   "name": "python3"
  },
  "language_info": {
   "codemirror_mode": {
    "name": "ipython",
    "version": 3
   },
   "file_extension": ".py",
   "mimetype": "text/x-python",
   "name": "python",
   "nbconvert_exporter": "python",
   "pygments_lexer": "ipython3",
   "version": "3.11.8"
  }
 },
 "nbformat": 4,
 "nbformat_minor": 5
}
