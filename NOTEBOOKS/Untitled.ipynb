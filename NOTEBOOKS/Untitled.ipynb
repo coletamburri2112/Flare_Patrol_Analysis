{
 "cells": [
  {
   "cell_type": "code",
   "execution_count": 1,
   "id": "520ec1e2-95c5-4d8f-96a3-3a1c278626f5",
   "metadata": {},
   "outputs": [],
   "source": [
    "import numpy as np\n",
    "import matplotlib.pyplot as plt\n",
    "from astropy.io import fits"
   ]
  },
  {
   "cell_type": "code",
   "execution_count": 2,
   "id": "4bcd59a0-50a8-488b-b90d-589f42b5b323",
   "metadata": {},
   "outputs": [],
   "source": [
    "filename = '/Users/coletamburri/Desktop/11_Aug_2024_Cclass_Flare/11Aug_Fermi/glg_cspec_n5_240811_v00_data.fits'"
   ]
  },
  {
   "cell_type": "code",
   "execution_count": 3,
   "id": "2d49cdf4-f0e3-4d49-b02b-e5529e7cabe1",
   "metadata": {},
   "outputs": [],
   "source": [
    "data = fits.open(filename)"
   ]
  },
  {
   "cell_type": "code",
   "execution_count": 4,
   "id": "8878c9c6-139e-4620-89a8-8807409ec4e8",
   "metadata": {},
   "outputs": [
    {
     "data": {
      "text/plain": [
       "[<astropy.io.fits.hdu.image.PrimaryHDU object at 0x114050cd0>, <astropy.io.fits.hdu.table.BinTableHDU object at 0x112ce6350>, <astropy.io.fits.hdu.table.BinTableHDU object at 0x1140775d0>, <astropy.io.fits.hdu.table.BinTableHDU object at 0x11407ff10>]"
      ]
     },
     "execution_count": 4,
     "metadata": {},
     "output_type": "execute_result"
    }
   ],
   "source": [
    "data"
   ]
  },
  {
   "cell_type": "code",
   "execution_count": 11,
   "id": "c15b4186-7f10-4853-b857-d0e850caf650",
   "metadata": {},
   "outputs": [
    {
     "data": {
      "text/plain": [
       "XTENSION= 'BINTABLE'           / Binary table written by MWRFITS v1.14          \n",
       "BITPIX  =                    8 / Required value                                 \n",
       "NAXIS   =                    2 / Required value                                 \n",
       "NAXIS1  =                   12 / Number of bytes per row                        \n",
       "NAXIS2  =                  128 / Number of rows                                 \n",
       "PCOUNT  =                    0 / Normally 0 (no varying arrays)                 \n",
       "GCOUNT  =                    1 / Required value                                 \n",
       "TFIELDS =                    3 / Number of columns in table                     \n",
       "COMMENT                                                                         \n",
       "COMMENT  *** End of mandatory fields ***                                        \n",
       "COMMENT                                                                         \n",
       "TLMIN1  =                    0 / Channel numbers are non-negative               \n",
       "TLMAX1  =                  127 / Greater than the number of channels            \n",
       "TLMIN2  =                    0 / Lowest channel energy                          \n",
       "TLMAX2  =                 2000 / Highest channel energy                         \n",
       "TLMIN3  =                    0 / Lowest channel energy                          \n",
       "TLMAX3  =                 2000 / Highest channel energy                         \n",
       "EXTNAME = 'EBOUNDS '           / name of this binary table extension            \n",
       "TELESCOP= 'GLAST   '           / Name of mission/satellite                      \n",
       "INSTRUME= 'GBM     '           / Specific instrument used for observation       \n",
       "DETNAM  = 'NAI_05  '           / Individual detector name                       \n",
       "OBSERVER= 'Meegan  '           / GLAST Burst Monitor P.I.                       \n",
       "ORIGIN  = 'GIOC    '           / Name of organization making file               \n",
       "DATE    = '2025-08-17T12:09:24' / File creation date (YYYY-MM-DDThh:mm:ss UTC)  \n",
       "DATE-OBS= '2024-08-10T23:59:59' / Date of start of observation                  \n",
       "DATE-END= '2024-08-12T00:00:05' / Date of end of observation                    \n",
       "TIMESYS = 'TT      '           / Time system used in time keywords              \n",
       "TIMEUNIT= 's       '           / Time since MJDREF, used in TSTART and TSTOP    \n",
       "MJDREFI =                51910 / MJD of GLAST reference epoch, integer part     \n",
       "MJDREFF = 7.428703703703703D-4 / MJD of GLAST reference epoch, fractional part  \n",
       "TSTART  =     745027199.351740 / [GLAST MET] Observation start time             \n",
       "TSTOP   =     745113605.967626 / [GLAST MET] Observation stop time              \n",
       "HDUCLASS= 'OGIP    '           / Conforms to OGIP standard indicated in HDUCLAS1\n",
       "HDUCLAS1= 'RESPONSE'           / These are typically found in RMF files         \n",
       "HDUCLAS2= 'EBOUNDS '           / From CAL/GEN/92-002                            \n",
       "HDUVERS = '1.2.0   '           / Version of HDUCLAS1 format in use              \n",
       "CHANTYPE= 'PHA     '           / No corrections have been applied               \n",
       "FILTER  = 'None    '           / The instrument filter in use (if any)          \n",
       "DETCHANS=                  128 / Total number of channels in each rate          \n",
       "EXTVER  =                    1 / Version of this extension format               \n",
       "GBMCKSUM= 'ea20    '           / GBM FSW icrc shecksum value (hex)              \n",
       "CH2E_VER= 'SPLINE 2.0'         / Channel to energy conversion scheme used       \n",
       "GAIN_COR=                  1.0 / Gain correction factor applied to energy edges \n",
       "CHECKSUM= 'OPHWRMHWOMHWOMHW'   / HDU checksum updated 2024-08-12T03:35:00       \n",
       "DATASUM = '1439395070'         / data unit checksum updated 2024-08-11T02:21:35 \n",
       "TUNIT2  = 'keV     '           /                                                \n",
       "TUNIT3  = 'keV     '           /                                                \n",
       "COMMENT                                                                         \n",
       "COMMENT  *** Column formats ***                                                 \n",
       "COMMENT                                                                         \n",
       "TFORM1  = 'J       '           /                                                \n",
       "TFORM2  = 'E       '           /                                                \n",
       "TFORM3  = 'E       '           /                                                \n",
       "COMMENT                                                                         \n",
       "COMMENT  *** Column names ***                                                   \n",
       "COMMENT                                                                         \n",
       "TTYPE1  = 'CHANNEL '           /                                                \n",
       "TTYPE2  = 'E_MIN   '           /                                                \n",
       "TTYPE3  = 'E_MAX   '           /                                                "
      ]
     },
     "execution_count": 11,
     "metadata": {},
     "output_type": "execute_result"
    }
   ],
   "source": [
    "data[2].header"
   ]
  },
  {
   "cell_type": "code",
   "execution_count": null,
   "id": "2e6a9138-6e33-486d-b1a3-7bbe2100a608",
   "metadata": {},
   "outputs": [],
   "source": []
  }
 ],
 "metadata": {
  "kernelspec": {
   "display_name": "Python 3 (ipykernel)",
   "language": "python",
   "name": "python3"
  },
  "language_info": {
   "codemirror_mode": {
    "name": "ipython",
    "version": 3
   },
   "file_extension": ".py",
   "mimetype": "text/x-python",
   "name": "python",
   "nbconvert_exporter": "python",
   "pygments_lexer": "ipython3",
   "version": "3.11.8"
  }
 },
 "nbformat": 4,
 "nbformat_minor": 5
}
